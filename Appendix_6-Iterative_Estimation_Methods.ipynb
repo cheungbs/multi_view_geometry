{
 "cells": [
  {
   "cell_type": "markdown",
   "metadata": {},
   "source": [
    "# Appendix 6: Iterative Estimation Methods\n",
    "\n",
    "## A6.1 Newton Iteration\n"
   ]
  },
  {
   "cell_type": "code",
   "execution_count": 4,
   "metadata": {},
   "outputs": [],
   "source": [
    "import numpy as np"
   ]
  },
  {
   "cell_type": "code",
   "execution_count": 1,
   "metadata": {},
   "outputs": [],
   "source": [
    "def f(P):\n",
    "    X = none\n",
    "    return X"
   ]
  },
  {
   "cell_type": "code",
   "execution_count": 2,
   "metadata": {},
   "outputs": [],
   "source": [
    "def Jacobian(P):\n",
    "    J = none\n",
    "    return J"
   ]
  },
  {
   "cell_type": "code",
   "execution_count": 3,
   "metadata": {},
   "outputs": [],
   "source": [
    "def Init():\n",
    "    P = none\n",
    "    return P"
   ]
  },
  {
   "cell_type": "code",
   "execution_count": 5,
   "metadata": {},
   "outputs": [],
   "source": [
    "def pseudo_inverse(J):\n",
    "    return (J^T*J)^(-1)*J^T"
   ]
  },
  {
   "cell_type": "code",
   "execution_count": 6,
   "metadata": {},
   "outputs": [],
   "source": [
    "def solve(J, e):\n",
    "    return - pseudo_inverse(J) * e"
   ]
  },
  {
   "cell_type": "code",
   "execution_count": 7,
   "metadata": {},
   "outputs": [],
   "source": [
    "def step(P, X):\n",
    "    e = f(P) - X\n",
    "    J = Jacobian(P)\n",
    "    delta = solve(J, e)\n",
    "    return delta"
   ]
  },
  {
   "cell_type": "code",
   "execution_count": 8,
   "metadata": {},
   "outputs": [],
   "source": [
    "# It is possible that this iteration procedure converges to a local minimum value, or does not converge at all.\n",
    "def newton_iterate(X):\n",
    "    P = Init()\n",
    "    delta = none\n",
    "    while continue_cond(delta):\n",
    "        delta = step(P, X)\n",
    "        P += delta"
   ]
  },
  {
   "cell_type": "markdown",
   "metadata": {},
   "source": [
    "### Weighted iteration\n",
    "Assume the measurement X satisfies a Gaussian distribution which covariance matrix $\\Sigma_X$, and wishes to minimize the Mahalanobis distance $||\\B{f}(\\hat{P}) - \\bold{X}||_\\Sigma$"
   ]
  },
  {
   "cell_type": "code",
   "execution_count": null,
   "metadata": {},
   "outputs": [],
   "source": []
  },
  {
   "cell_type": "code",
   "execution_count": null,
   "metadata": {},
   "outputs": [],
   "source": []
  }
 ],
 "metadata": {
  "kernelspec": {
   "display_name": "Python 3",
   "language": "python",
   "name": "python3"
  },
  "language_info": {
   "codemirror_mode": {
    "name": "ipython",
    "version": 3
   },
   "file_extension": ".py",
   "mimetype": "text/x-python",
   "name": "python",
   "nbconvert_exporter": "python",
   "pygments_lexer": "ipython3",
   "version": "3.6.8"
  }
 },
 "nbformat": 4,
 "nbformat_minor": 2
}
